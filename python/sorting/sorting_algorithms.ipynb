{
 "cells": [
  {
   "cell_type": "markdown",
   "metadata": {},
   "source": [
    "Sorting assumptions:\n",
    "    *There is an comparison operator defined on the set of elements such that:\n",
    "        ** Comparison of an object with itself return false\n",
    "        ** If x1 < x2, and x2 < x3, then x1 < x3\n",
    "        \n",
    "    *Specifically second propert is extremely usefull as we can reduce number of necessary computations"
   ]
  },
  {
   "cell_type": "code",
   "execution_count": 8,
   "metadata": {},
   "outputs": [
    {
     "data": {
      "text/plain": [
       "True"
      ]
     },
     "execution_count": 8,
     "metadata": {},
     "output_type": "execute_result"
    }
   ],
   "source": [
    "# For op to be valid comparison operator both predicates must return true\n",
    "\n",
    "def irreflexive_property(x, op):\n",
    "    return not(op(x,x))\n",
    "\n",
    "def transitive_propery(x,y,z, op):\n",
    "    if op(x,y) and op(y,z):\n",
    "        return op(x,z)\n",
    "    else:\n",
    "        return False\n",
    "    \n",
    "def less_than(x, y):\n",
    "    return x<y\n",
    "\n",
    "# Ex: < satisfies the properties\n",
    "# Note that this is not formal proof\n",
    "irreflexive_property(2, less_than) and transitive_propery(1,2,3, less_than)"
   ]
  },
  {
   "cell_type": "markdown",
   "metadata": {},
   "source": [
    "Merge-sort\n",
    "Divide and conquer \n",
    "1- If simple enough solve the problem \n",
    ",otherwise divide to subproblems(disjoint sets)\n",
    "2- Recursivelly apply the function to sub-problems\n",
    "3- Merge the result of subproblems\n",
    "\n",
    "Ex. \n",
    "Let the + be merge operation,\n",
    "D be the division function st. for set A D(A) gives \n",
    "disjoint subsets, let F be function that divides the problem using\n",
    "D and applies F to elements of D(A). So,\n",
    "\n",
    "F(Input) = reduce(+, map(F, D(A)), identity)\n",
    "Note for an trivial input F must solve it without division, D should not divide trivial problem sizes\n"
   ]
  },
  {
   "cell_type": "markdown",
   "metadata": {},
   "source": [
    "For Merge-sort\n",
    "\n",
    "D(S) = if S has 0 or 1 element return S, otherwise\n",
    "divide S to 2 disjoint sets(first half, and second half)\n",
    "+(s1,s2) = return sorted sequence S, combine s1, s2\n",
    "F(S) = Given D(S) = s1,s2, call +(F(s1),F(s2)) "
   ]
  },
  {
   "cell_type": "code",
   "execution_count": 11,
   "metadata": {},
   "outputs": [],
   "source": [
    "def my_sort(sequence, algorithm =\"merge\"):\n",
    "    size = len(sequence);\n",
    "    if algorithm == \"merge\":\n",
    "        merge_sort(sequence, 0, size - 1, [0 for i in range(size)])"
   ]
  },
  {
   "cell_type": "code",
   "execution_count": 12,
   "metadata": {},
   "outputs": [],
   "source": [
    "def merge(sequence, rstart, rend, lstart, lend):\n",
    "    s1 = 0\n",
    "    s2 = 0\n",
    "    idx\n",
    "    while s1 + s2 <= lend-rstart+1:\n",
    "        if s2 == lend - lstart + 1 and \n",
    "    \n",
    "\n",
    "def divide(lower, upper):\n",
    "    left_end = (upper + lower) / 2\n",
    "    right_start = left_end + 1\n",
    "    return (lower, left_end, right_start, upper)\n",
    "\n",
    "def merge_sort(sequence, lower, upper, tmp):\n",
    "    # if sub-sequence has 1 element\n",
    "    if lower >= upper:\n",
    "        return\n",
    "    \n",
    "    rstart, rend, lstart, lend = divide(lower, upper)\n",
    "    \n",
    "    merge_sort(sequence, rstart, rend)\n",
    "    merge_sort(sequence, lstart, lend)\n",
    "    merge(sequence, rstart, rend, lstart, lend, tmp)\n",
    "    "
   ]
  },
  {
   "cell_type": "code",
   "execution_count": null,
   "metadata": {},
   "outputs": [],
   "source": []
  }
 ],
 "metadata": {
  "kernelspec": {
   "display_name": "Python 3",
   "language": "python",
   "name": "python3"
  },
  "language_info": {
   "codemirror_mode": {
    "name": "ipython",
    "version": 3
   },
   "file_extension": ".py",
   "mimetype": "text/x-python",
   "name": "python",
   "nbconvert_exporter": "python",
   "pygments_lexer": "ipython3",
   "version": "3.8.10"
  }
 },
 "nbformat": 4,
 "nbformat_minor": 4
}
